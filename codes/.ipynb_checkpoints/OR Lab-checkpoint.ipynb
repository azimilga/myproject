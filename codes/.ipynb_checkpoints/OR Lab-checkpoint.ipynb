{
 "cells": [
  {
   "cell_type": "code",
   "execution_count": 2,
   "metadata": {},
   "outputs": [],
   "source": [
    "import pandas as pd\n",
    "import matplotlib.pyplot as plt\n",
    "import seaborn as sns\n",
    "import numpy as np\n",
    "import statistics\n",
    "import re\n",
    "import os\n",
    "from datetime import datetime, timedelta\n",
    "import pytz\n",
    "\n",
    "import warnings\n",
    "warnings.filterwarnings(\"ignore\")"
   ]
  },
  {
   "cell_type": "code",
   "execution_count": null,
   "metadata": {},
   "outputs": [],
   "source": []
  },
  {
   "cell_type": "code",
   "execution_count": 7,
   "metadata": {},
   "outputs": [],
   "source": [
    "\n",
    "folder_coordinate = '10_50mm'\n",
    "position_column = 'Position [mm]' # set the this colume become an index\n",
    "folder_project = 'project'\n",
    "folder_work = 'OR Lab'\n",
    "platform_directory = 'C:/Users/azimilga' # folder path, gani fully path were C:\\Users\\azimilga\\project\\OR Lab\\Cross\\10_50mm"
   ]
  },
  {
   "cell_type": "code",
   "execution_count": 104,
   "metadata": {},
   "outputs": [],
   "source": [
    "temp_air1 = '21'\n",
    "temp_air2 = '23'\n",
    "air_flow = 'cross'\n",
    "vent_type = 'mix'   # this variable need to be rewrite   #'laf'   #'mix'   #'novent' \n",
    "coordinate_y1 = '10mm'   \n",
    "coordinate_y2 = '50mm'\n",
    "directory_path = platform_directory + '/' + folder_project + '/' + folder_work + '/'+ air_flow + '/'+ folder_coordinate"
   ]
  },
  {
   "cell_type": "code",
   "execution_count": 74,
   "metadata": {},
   "outputs": [
    {
     "name": "stdout",
     "output_type": "stream",
     "text": [
      "C:/Users/azimilga/project/OR Lab/cross/10_50mm\n"
     ]
    }
   ],
   "source": [
    "print(directory_path)"
   ]
  },
  {
   "cell_type": "code",
   "execution_count": 105,
   "metadata": {},
   "outputs": [],
   "source": [
    "csv_file_header11 = temp_air1 + '_' + vent_type + '_' + air_flow + '_'+coordinate_y1 #define the file names    this for 10 mm xxx_y1 is 10 mm and also for 21\n",
    "folder_path1 = directory_path  + '/' + vent_type # replace with the folder path\n",
    "csv_files1 = [f for f in os.listdir(folder_path1) if f.endswith('.csv') and f.startswith(csv_file_header11)] # get list of csv files, function for f in specific directory (folder_path) started with csv_file_header11 and ends with endswith('.csv')\n",
    "dfs1 = [] # list to store dataframes\n",
    "#looping\n",
    "for file in csv_files1:\n",
    "    file_path = os.path.join(folder_path1, file) # get full path of csv file\n",
    "    df = pd.read_csv(file_path, delimiter=',')\n",
    "    df = df.set_index(position_column)# read csv file into a dataframe, set the specific columms df.set_index(position_column) \n",
    "    dfs1.append(df) # join them one by one\n",
    "    \n",
    "combined1 = pd.concat(dfs1, axis=1, ignore_index=False) #select values only without an index and colect in the single table\n",
    "#combined1['ave V (m/s)'] = combined1['Standard deviation of Vx [m/s]']+ 245       - this is if I want add new column with other calculations\n",
    "combined1['u (m/s)'] = ((combined1['Standard deviation of Vx [m/s]']**2 +    combined1['Standard deviation of Vy [m/s]']**2)*0.5)**0.5\n",
    "combined1['turbint (%)'] = 100*combined1['u (m/s)']/combined1['Avg V [m/s]']\n"
   ]
  },
  {
   "cell_type": "code",
   "execution_count": 106,
   "metadata": {},
   "outputs": [],
   "source": [
    "csv_file_header12 = temp_air1 + '_' + vent_type + '_' + air_flow + '_'+coordinate_y2 #define the file names    this for 50 mm xxx_y2 is 50 mm and also for 21\n",
    "folder_path1 = directory_path + '/' + vent_type # replace with the folder path\n",
    "csv_files1 = [f for f in os.listdir(folder_path1) if f.endswith('.csv') and f.startswith(csv_file_header12)] # get list of csv files\n",
    "dfs1 = [] # list to store dataframes\n",
    "\n",
    "for file in csv_files1:\n",
    "    file_path = os.path.join(folder_path1, file) # get full path of csv file\n",
    "    df = pd.read_csv(file_path, delimiter=',')\n",
    "    df = df.set_index(position_column)# read csv file into a dataframe\n",
    "    dfs1.append(df)\n",
    "    \n",
    "combined2 = pd.concat(dfs1, axis=1, ignore_index=False)\n",
    "combined2['u (m/s)'] = ((combined2['Standard deviation of Vx [m/s]']**2 +    combined2['Standard deviation of Vy [m/s]']**2)*0.5)**0.5\n",
    "combined2['turbint (%)'] = 100*combined2['u (m/s)']/combined2['Avg V [m/s]']"
   ]
  },
  {
   "cell_type": "code",
   "execution_count": 107,
   "metadata": {},
   "outputs": [],
   "source": [
    "csv_file_header21 = temp_air2 + '_' + vent_type + '_' + air_flow + '_'+coordinate_y1  #define the file names    this for 10 mm xxx_y1 is 10 mm and also for 23 C\n",
    "folder_path1 = directory_path + '/' + vent_type # replace with the folder path\n",
    "csv_files1 = [f for f in os.listdir(folder_path1) if f.endswith('.csv') and f.startswith(csv_file_header21)] # get list of csv files\n",
    "dfs1 = [] # list to store dataframes\n",
    "\n",
    "for file in csv_files1:\n",
    "    file_path = os.path.join(folder_path1, file) # get full path of csv file\n",
    "    df = pd.read_csv(file_path, delimiter=',')\n",
    "    df = df.set_index(position_column)# read csv file into a dataframe\n",
    "    dfs1.append(df)\n",
    "    \n",
    "combined3 = pd.concat(dfs1, axis=1, ignore_index=False)\n",
    "combined3['u (m/s)'] = ((combined3['Standard deviation of Vx [m/s]']**2 +    combined3['Standard deviation of Vy [m/s]']**2)*0.5)**0.5\n",
    "combined3['turbint (%)'] = 100*combined3['u (m/s)']/combined3['Avg V [m/s]']"
   ]
  },
  {
   "cell_type": "code",
   "execution_count": 108,
   "metadata": {},
   "outputs": [],
   "source": [
    "csv_file_header22 = temp_air2 + '_' + vent_type + '_' + air_flow + '_'+coordinate_y2 #define the file names    this for 50 mm xxx_y2 is 50 mm and also for 23 C\n",
    "folder_path1 = directory_path + '/' + vent_type # replace with the folder path\n",
    "csv_files1 = [f for f in os.listdir(folder_path1) if f.endswith('.csv') and f.startswith(csv_file_header22)] # get list of csv files\n",
    "dfs1 = [] # list to store dataframes\n",
    "\n",
    "for file in csv_files1:\n",
    "    file_path = os.path.join(folder_path1, file) # get full path of csv file\n",
    "    df = pd.read_csv(file_path, delimiter=',')\n",
    "    df = df.set_index(position_column)# read csv file into a dataframe\n",
    "    dfs1.append(df)\n",
    "    \n",
    "combined4 = pd.concat(dfs1, axis=1, ignore_index=False)\n",
    "combined4['u (m/s)'] = ((combined4['Standard deviation of Vx [m/s]']**2 +    combined4['Standard deviation of Vy [m/s]']**2)*0.5)**0.5\n",
    "combined4['turbint (%)'] = 100*combined4['u (m/s)']/combined4['Avg V [m/s]']"
   ]
  },
  {
   "cell_type": "code",
   "execution_count": 109,
   "metadata": {},
   "outputs": [],
   "source": [
    "with pd.ExcelWriter(directory_path + '/'+ folder_coordinate + '_' + temp_air1 + '_' + temp_air2 +'_' + vent_type + '.xlsx') as writer: # make one file with severel sheet \n",
    "   \n",
    "    # use to_excel function and specify the sheet_name and index \n",
    "    # to store the dataframe in specified sheet\n",
    "    combined1.to_excel(writer, sheet_name = csv_file_header11, index=True) # this 10 mm 21 \n",
    "    combined2.to_excel(writer, sheet_name = csv_file_header12, index=True) # this 50 mm 21 \n",
    "    combined3.to_excel(writer, sheet_name = csv_file_header21, index=True) # this 10 mm 23\n",
    "    combined4.to_excel(writer, sheet_name = csv_file_header22, index=True) # this 10 mm 23"
   ]
  }
 ],
 "metadata": {
  "kernelspec": {
   "display_name": "Python 3 (ipykernel)",
   "language": "python",
   "name": "python3"
  },
  "language_info": {
   "codemirror_mode": {
    "name": "ipython",
    "version": 3
   },
   "file_extension": ".py",
   "mimetype": "text/x-python",
   "name": "python",
   "nbconvert_exporter": "python",
   "pygments_lexer": "ipython3",
   "version": "3.8.17"
  }
 },
 "nbformat": 4,
 "nbformat_minor": 2
}
